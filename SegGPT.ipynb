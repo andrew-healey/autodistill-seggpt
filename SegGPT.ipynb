{
  "cells": [
    {
      "cell_type": "markdown",
      "metadata": {
        "id": "6hrwXg1DttKe"
      },
      "source": [
        "# Setup"
      ]
    },
    {
      "cell_type": "code",
      "execution_count": 1,
      "metadata": {
        "colab": {
          "base_uri": "https://localhost:8080/"
        },
        "id": "wX39IuqygXM3",
        "outputId": "2bf5913b-524e-4e2b-a41c-bba00f7fb8a8"
      },
      "outputs": [
        {
          "name": "stdout",
          "output_type": "stream",
          "text": [
            "Cloning into 'Painter'...\n",
            "remote: Enumerating objects: 287, done.\u001b[K\n",
            "remote: Counting objects: 100% (55/55), done.\u001b[K\n",
            "remote: Compressing objects: 100% (32/32), done.\u001b[K\n",
            "remote: Total 287 (delta 29), reused 24 (delta 23), pack-reused 232\u001b[K\n",
            "Receiving objects: 100% (287/287), 13.07 MiB | 34.06 MiB/s, done.\n",
            "Resolving deltas: 100% (76/76), done.\n",
            "mv: cannot move 'Painter/SegGPT/SegGPT_inference/' to './seggpt/SegGPT_inference': Directory not empty\n",
            "--2023-07-22 15:18:25--  https://huggingface.co/BAAI/SegGPT/resolve/main/seggpt_vit_large.pth\n",
            "Resolving huggingface.co (huggingface.co)... 18.172.134.88, 18.172.134.124, 18.172.134.4, ...\n",
            "Connecting to huggingface.co (huggingface.co)|18.172.134.88|:443... connected.\n",
            "HTTP request sent, awaiting response... 302 Found\n",
            "Location: https://cdn-lfs.huggingface.co/repos/a0/5c/a05ca640d6e4f08b928489d7e7f80507590b071210c55fc80e463f64c139936c/59c74d1993ca50ac0ae968d9bbe5db453f50aa5d5c7c9564cce6011c18b16570?response-content-disposition=attachment%3B+filename*%3DUTF-8%27%27seggpt_vit_large.pth%3B+filename%3D%22seggpt_vit_large.pth%22%3B&Expires=1690298305&Policy=eyJTdGF0ZW1lbnQiOlt7IkNvbmRpdGlvbiI6eyJEYXRlTGVzc1RoYW4iOnsiQVdTOkVwb2NoVGltZSI6MTY5MDI5ODMwNX19LCJSZXNvdXJjZSI6Imh0dHBzOi8vY2RuLWxmcy5odWdnaW5nZmFjZS5jby9yZXBvcy9hMC81Yy9hMDVjYTY0MGQ2ZTRmMDhiOTI4NDg5ZDdlN2Y4MDUwNzU5MGIwNzEyMTBjNTVmYzgwZTQ2M2Y2NGMxMzk5MzZjLzU5Yzc0ZDE5OTNjYTUwYWMwYWU5NjhkOWJiZTVkYjQ1M2Y1MGFhNWQ1YzdjOTU2NGNjZTYwMTFjMThiMTY1NzA%7EcmVzcG9uc2UtY29udGVudC1kaXNwb3NpdGlvbj0qIn1dfQ__&Signature=x6KyRzjQtKkEyNsN526QPxD5NQBiLraS%7E4KtSergMVZmt2IQopWudEQb2kYgSKK19oVfcduTK5jyqtcZ04r-YL0nv-YRBLQHzqoAgaHJXbRnkeJT-PmUc1MJKivQYT7Qe3UDFWdwiMciVf1PRraAhcM9ct9yhY1XMlSBfm15powo03Xk7S0NelwPSPZTe%7Egv2CM9AIWzfqnLKH560hyHglpl-Q%7Ez43ZkCtF3hg9JZiXvmm0%7E1nZ9LO3xr%7ELPZGJUOj3y2iV9RAqsK3XtoSE227b7Uic63h3AY8I6vmO3IoFSBw6my8xt9mskIx2TzkcjCZIWAQtPlyzQMA2ly-t5cg__&Key-Pair-Id=KVTP0A1DKRTAX [following]\n",
            "--2023-07-22 15:18:25--  https://cdn-lfs.huggingface.co/repos/a0/5c/a05ca640d6e4f08b928489d7e7f80507590b071210c55fc80e463f64c139936c/59c74d1993ca50ac0ae968d9bbe5db453f50aa5d5c7c9564cce6011c18b16570?response-content-disposition=attachment%3B+filename*%3DUTF-8%27%27seggpt_vit_large.pth%3B+filename%3D%22seggpt_vit_large.pth%22%3B&Expires=1690298305&Policy=eyJTdGF0ZW1lbnQiOlt7IkNvbmRpdGlvbiI6eyJEYXRlTGVzc1RoYW4iOnsiQVdTOkVwb2NoVGltZSI6MTY5MDI5ODMwNX19LCJSZXNvdXJjZSI6Imh0dHBzOi8vY2RuLWxmcy5odWdnaW5nZmFjZS5jby9yZXBvcy9hMC81Yy9hMDVjYTY0MGQ2ZTRmMDhiOTI4NDg5ZDdlN2Y4MDUwNzU5MGIwNzEyMTBjNTVmYzgwZTQ2M2Y2NGMxMzk5MzZjLzU5Yzc0ZDE5OTNjYTUwYWMwYWU5NjhkOWJiZTVkYjQ1M2Y1MGFhNWQ1YzdjOTU2NGNjZTYwMTFjMThiMTY1NzA%7EcmVzcG9uc2UtY29udGVudC1kaXNwb3NpdGlvbj0qIn1dfQ__&Signature=x6KyRzjQtKkEyNsN526QPxD5NQBiLraS%7E4KtSergMVZmt2IQopWudEQb2kYgSKK19oVfcduTK5jyqtcZ04r-YL0nv-YRBLQHzqoAgaHJXbRnkeJT-PmUc1MJKivQYT7Qe3UDFWdwiMciVf1PRraAhcM9ct9yhY1XMlSBfm15powo03Xk7S0NelwPSPZTe%7Egv2CM9AIWzfqnLKH560hyHglpl-Q%7Ez43ZkCtF3hg9JZiXvmm0%7E1nZ9LO3xr%7ELPZGJUOj3y2iV9RAqsK3XtoSE227b7Uic63h3AY8I6vmO3IoFSBw6my8xt9mskIx2TzkcjCZIWAQtPlyzQMA2ly-t5cg__&Key-Pair-Id=KVTP0A1DKRTAX\n",
            "Resolving cdn-lfs.huggingface.co (cdn-lfs.huggingface.co)... 99.84.160.54, 99.84.160.56, 99.84.160.47, ...\n",
            "Connecting to cdn-lfs.huggingface.co (cdn-lfs.huggingface.co)|99.84.160.54|:443... connected.\n",
            "HTTP request sent, awaiting response... 200 OK\n",
            "Length: 1483023073 (1.4G) [binary/octet-stream]\n",
            "Saving to: ‘seggpt_vit_large.pth’\n",
            "\n",
            "seggpt_vit_large.pt 100%[===================>]   1.38G   243MB/s    in 5.9s    \n",
            "\n",
            "2023-07-22 15:18:31 (238 MB/s) - ‘seggpt_vit_large.pth’ saved [1483023073/1483023073]\n",
            "\n"
          ]
        }
      ],
      "source": [
        "!rm -rf Painter\n",
        "!git clone https://github.com/baaivision/Painter\n",
        "\n",
        "%mv Painter/SegGPT/SegGPT_inference/ ./seggpt\n",
        "!touch seggpt/__init__.py\n",
        "\n",
        "!rm -rf Painter\n",
        "\n",
        "!rm seggpt_vit_large.pth\n",
        "!wget https://huggingface.co/BAAI/SegGPT/resolve/main/seggpt_vit_large.pth"
      ]
    },
    {
      "cell_type": "code",
      "execution_count": 2,
      "metadata": {
        "colab": {
          "base_uri": "https://localhost:8080/"
        },
        "id": "tu5dM4Wgku6I",
        "outputId": "0bd6c819-59d9-4e74-888e-38cfd730eb28"
      },
      "outputs": [],
      "source": [
        "with open(\"seggpt/seggpt_engine.py\",\"r\") as f:\n",
        "  txt = f.read()\n",
        "\n",
        "with open(\"seggpt/seggpt_engine.py\",\"w\") as f:\n",
        "  f.write(txt.replace(\"(input_image * (0.6 * output / 255 + 0.4))\",\"output\"))"
      ]
    },
    {
      "cell_type": "code",
      "execution_count": 3,
      "metadata": {
        "colab": {
          "base_uri": "https://localhost:8080/"
        },
        "id": "fGDDP9zeimQL",
        "outputId": "b448d3ad-5ab9-434d-e12a-577ae30ddd8c"
      },
      "outputs": [],
      "source": [
        "!pip install -q timm fairscale git+https://github.com/facebookresearch/detectron2.git"
      ]
    },
    {
      "cell_type": "code",
      "execution_count": 4,
      "metadata": {},
      "outputs": [
        {
          "name": "stdout",
          "output_type": "stream",
          "text": [
            "Found existing installation: nvidia-cublas-cu11 11.10.3.66\n",
            "Uninstalling nvidia-cublas-cu11-11.10.3.66:\n",
            "  Successfully uninstalled nvidia-cublas-cu11-11.10.3.66\n"
          ]
        }
      ],
      "source": [
        "!pip uninstall -y nvidia_cublas_cu11"
      ]
    },
    {
      "cell_type": "code",
      "execution_count": 5,
      "metadata": {
        "colab": {
          "base_uri": "https://localhost:8080/"
        },
        "id": "fLYQ_K69Muj3",
        "outputId": "a9e3fb6f-9f79-4808-a46e-75d022cce4b9"
      },
      "outputs": [
        {
          "name": "stdout",
          "output_type": "stream",
          "text": [
            "Requirement already satisfied: palettable in ./.venv/lib/python3.7/site-packages (3.3.3)\n"
          ]
        }
      ],
      "source": [
        "!pip install palettable\n",
        "from palettable.wesanderson import FantasticFox2_5"
      ]
    },
    {
      "cell_type": "markdown",
      "metadata": {
        "id": "jEzbo4sULtoU"
      },
      "source": [
        "# Roboflow datasets"
      ]
    },
    {
      "cell_type": "code",
      "execution_count": 6,
      "metadata": {},
      "outputs": [],
      "source": [
        "!rm -rf datasets/\n",
        "!mkdir datasets/"
      ]
    },
    {
      "cell_type": "code",
      "execution_count": 7,
      "metadata": {
        "colab": {
          "base_uri": "https://localhost:8080/"
        },
        "id": "ACS-U-QXL2hW",
        "outputId": "9f574714-c5f6-4143-9ecb-3bea81bc091d"
      },
      "outputs": [],
      "source": [
        "!pip install -q roboflow pycocotools\n",
        "from roboflow import Roboflow\n",
        "rf = Roboflow(api_key=\"YsWaBWdLsFfUXb1x0YdP\")\n"
      ]
    },
    {
      "cell_type": "code",
      "execution_count": 8,
      "metadata": {},
      "outputs": [],
      "source": [
        "# %cd datasets/\n",
        "\n",
        "# project = rf.workspace(\"amala02\").project(\"cancer-detection-xmvfg\")\n",
        "# !rm -rf ./datasets/Cancer-Detection-*\n",
        "# dataset = project.version(4).download(\"coco-segmentation\")\n",
        "\n",
        "# %cd ../\n"
      ]
    },
    {
      "cell_type": "code",
      "execution_count": 9,
      "metadata": {
        "colab": {
          "base_uri": "https://localhost:8080/"
        },
        "id": "vHfU0PuBzUNS",
        "outputId": "2ca155af-a150-472d-def6-9714d128e0ec"
      },
      "outputs": [
        {
          "name": "stdout",
          "output_type": "stream",
          "text": [
            "/home/andrewhealey/autodistill-seggpt/datasets\n",
            "loading Roboflow workspace...\n",
            "loading Roboflow project...\n",
            "Downloading Dataset Version Zip in Climbing-5 to coco-segmentation: 100% [3237354 / 3237354] bytes\n"
          ]
        },
        {
          "name": "stderr",
          "output_type": "stream",
          "text": [
            "Extracting Dataset Version Zip to Climbing-5 in coco-segmentation:: 100%|██████████| 51/51 [00:00<00:00, 3752.73it/s]"
          ]
        },
        {
          "name": "stdout",
          "output_type": "stream",
          "text": [
            "/home/andrewhealey/autodistill-seggpt\n"
          ]
        },
        {
          "name": "stderr",
          "output_type": "stream",
          "text": [
            "\n"
          ]
        }
      ],
      "source": [
        "%cd datasets/\n",
        "project = rf.workspace(\"roboflow-4rfmv\").project(\"climbing-y56wy\")\n",
        "!rm -rf Climbing-*/\n",
        "dataset = project.version(5).download(\"coco-segmentation\")\n",
        "%cd ../"
      ]
    },
    {
      "cell_type": "markdown",
      "metadata": {
        "id": "CxCxbQuSkmoq"
      },
      "source": [
        "# Imports"
      ]
    },
    {
      "cell_type": "code",
      "execution_count": 1,
      "metadata": {
        "id": "aYG7pUk1tfem"
      },
      "outputs": [],
      "source": [
        "multi_fs_scores = {}"
      ]
    },
    {
      "cell_type": "code",
      "execution_count": 2,
      "metadata": {
        "colab": {
          "base_uri": "https://localhost:8080/"
        },
        "id": "FGFlm0lXN7Mq",
        "outputId": "f50dd74a-5100-4d23-d919-470b1da51f38"
      },
      "outputs": [
        {
          "data": {
            "text/plain": [
              "array([ 43,  44, 139])"
            ]
          },
          "execution_count": 2,
          "metadata": {},
          "output_type": "execute_result"
        }
      ],
      "source": [
        "from math import floor\n",
        "from random import random\n",
        "import numpy as np\n",
        "def random_rgb():\n",
        "  return np.asarray([floor(random()*256) for i in range(3)])\n",
        "random_rgb()"
      ]
    },
    {
      "cell_type": "code",
      "execution_count": 3,
      "metadata": {
        "id": "xc-B0O_nq7B7"
      },
      "outputs": [],
      "source": [
        "from palettable.wesanderson import Moonrise7_5\n",
        "\n",
        "curr_idx = 0\n",
        "def moonrise_rgb():\n",
        "  global curr_idx\n",
        "  ret = Moonrise7_5.colors[curr_idx]\n",
        "  curr_idx = (curr_idx + 1) % len(Moonrise7_5.colors)\n",
        "  return np.asarray(list(ret))\n",
        "\n",
        "def reset_colors():\n",
        "  global curr_idx\n",
        "  curr_idx = 0\n"
      ]
    },
    {
      "cell_type": "code",
      "execution_count": 4,
      "metadata": {},
      "outputs": [],
      "source": [
        "def white_rgb():\n",
        "    return np.asarray([255,255,255])"
      ]
    },
    {
      "cell_type": "code",
      "execution_count": 5,
      "metadata": {
        "id": "46ZkiwpsrcEM"
      },
      "outputs": [],
      "source": [
        "next_rgb = moonrise_rgb"
      ]
    },
    {
      "cell_type": "code",
      "execution_count": 6,
      "metadata": {},
      "outputs": [],
      "source": [
        "from PIL import Image\n",
        "def cv2_imshow(img):\n",
        "    pil_image = Image.fromarray(img)\n",
        "    return pil_image"
      ]
    },
    {
      "cell_type": "code",
      "execution_count": 7,
      "metadata": {},
      "outputs": [],
      "source": [
        "\n",
        "import os\n",
        "import cv2\n",
        "import numpy as np\n",
        "from pycocotools.coco import COCO\n",
        "from random import seed,shuffle\n"
      ]
    },
    {
      "cell_type": "code",
      "execution_count": 8,
      "metadata": {
        "colab": {
          "base_uri": "https://localhost:8080/"
        },
        "id": "Lk10f3SHTRBJ",
        "outputId": "f653f39e-aa77-416b-88bf-62943b977bd2"
      },
      "outputs": [
        {
          "name": "stderr",
          "output_type": "stream",
          "text": [
            "/home/andrewhealey/autodistill-seggpt/.venv/lib/python3.7/site-packages/tqdm/auto.py:21: TqdmWarning: IProgress not found. Please update jupyter and ipywidgets. See https://ipywidgets.readthedocs.io/en/stable/user_install.html\n",
            "  from .autonotebook import tqdm as notebook_tqdm\n"
          ]
        },
        {
          "name": "stdout",
          "output_type": "stream",
          "text": [
            "Model loaded.\n"
          ]
        }
      ],
      "source": [
        "\n",
        "import torch\n",
        "\n",
        "from seggpt.seggpt_engine import inference_image, inference_video\n",
        "from seggpt import models_seggpt\n",
        "\n",
        "imagenet_mean = np.array([0.485, 0.456, 0.406])\n",
        "imagenet_std = np.array([0.229, 0.224, 0.225])\n",
        "\n",
        "def prepare_model(chkpt_dir, arch='seggpt_vit_large_patch16_input896x448', seg_type='instance'):\n",
        "    # build model\n",
        "    model = getattr(models_seggpt, arch)()\n",
        "    model.seg_type = seg_type\n",
        "    # load model\n",
        "    checkpoint = torch.load(chkpt_dir, map_location='cpu')\n",
        "    msg = model.load_state_dict(checkpoint['model'], strict=False)\n",
        "    model.eval()\n",
        "    return model\n",
        "\n",
        "from glob import glob\n",
        "from tqdm import tqdm\n",
        "\n",
        "ckpt_path = 'seggpt_vit_large.pth'\n",
        "device = torch.device(\"cuda\")\n",
        "model = \"seggpt_vit_large_patch16_input896x448\"\n",
        "seg_type = \"instance\"\n",
        "\n",
        "device = torch.device(device)\n",
        "model = prepare_model(ckpt_path, model, seg_type).to(device)\n",
        "print('Model loaded.')\n"
      ]
    },
    {
      "cell_type": "code",
      "execution_count": 9,
      "metadata": {
        "id": "DjZgSrOEDXKp"
      },
      "outputs": [
        {
          "name": "stdout",
          "output_type": "stream",
          "text": [
            "Done with imports\n"
          ]
        }
      ],
      "source": [
        "\n",
        "eps = 1e-10\n",
        "\n",
        "def semseg_iou(gt_mask_dir: str, output_dir: str, as_bitmask:bool=False):\n",
        "    running_intersection = 0\n",
        "    running_union = 0\n",
        "    running_iou = 0\n",
        "    num_imgs = 0\n",
        "\n",
        "    for filename in os.listdir(gt_mask_dir):\n",
        "        gt_mask_path = os.path.join(gt_mask_dir,filename)\n",
        "        gt_mask_name = \".\".join(filename.split(\".\")[:-1])\n",
        "        output_mask_path = os.path.join(output_dir, gt_mask_name + \".png\")\n",
        "        if os.path.exists(output_mask_path):\n",
        "            output_mask = cv2.imread(output_mask_path) > 0.2\n",
        "            gt_mask = cv2.imread(gt_mask_path) > 0.2\n",
        "\n",
        "            if as_bitmask:\n",
        "              output_mask = np.any(output_mask,axis=2)\n",
        "              gt_mask = np.any(gt_mask,axis=2)\n",
        "\n",
        "            intersection = np.logical_and(output_mask, gt_mask).sum()\n",
        "            union = np.logical_or(output_mask, gt_mask).sum()\n",
        "\n",
        "            running_intersection += intersection\n",
        "            running_union += union\n",
        "\n",
        "            iou = intersection / (union + eps)\n",
        "            running_iou += iou\n",
        "            num_imgs += 1\n",
        "\n",
        "    iou = running_intersection / (running_union + eps)\n",
        "\n",
        "    return iou,running_iou/num_imgs\n",
        "\n",
        "print(\"Done with imports\")"
      ]
    },
    {
      "cell_type": "markdown",
      "metadata": {
        "id": "oTWHo5n9Rl09"
      },
      "source": [
        "# Single SegGPT call"
      ]
    },
    {
      "cell_type": "code",
      "execution_count": null,
      "metadata": {
        "id": "fKLfGEisLl-J"
      },
      "outputs": [],
      "source": [
        "import os\n",
        "import cv2\n",
        "import numpy as np\n",
        "from pycocotools.coco import COCO\n",
        "data_dir = \"datasets/Cancer-Detection-4/train\"\n",
        "ref_limit = 2\n",
        "\n",
        "new_data_dir = \"new_data\"\n",
        "!rm -rf $new_data_dir\n",
        "!mkdir $new_data_dir\n",
        "\n",
        "# We designate our *own* \"train\"/\"test\" directories--there will be a few images in train/, and most images in test/.\n",
        "new_train_dir = os.path.join(new_data_dir,\"train\")\n",
        "new_test_dir = os.path.join(new_data_dir,\"test\")\n",
        "!mkdir $new_train_dir $new_test_dir\n",
        "\n",
        "ann_file = os.path.join(data_dir,\"_annotations.coco.json\")\n",
        "coco=COCO(ann_file)\n",
        "\n",
        "ref_ann_dir = os.path.join(new_train_dir,\"Annotations\")\n",
        "ref_img_dir = os.path.join(new_train_dir,\"Images\")\n",
        "test_ann_dir = os.path.join(new_test_dir,\"Annotations\")\n",
        "test_img_dir = os.path.join(new_test_dir,\"Images\")\n",
        "!mkdir $test_ann_dir $test_img_dir $ref_ann_dir $ref_img_dir\n",
        "\n",
        "cat_colors = {catId: random_rgb() for catId in coco.getCatIds()}\n",
        "\n",
        "num_train_imgs = 0\n",
        "for imgId in coco.getImgIds():\n",
        "\n",
        "  ann_dir = ref_ann_dir if num_train_imgs < ref_limit else test_ann_dir\n",
        "  img_dir = ref_img_dir if num_train_imgs < ref_limit else test_img_dir\n",
        "\n",
        "  img = coco.imgs[imgId]\n",
        "  img_path = os.path.join(data_dir,img[\"file_name\"])\n",
        "  img_cv2 = cv2.imread(img_path)\n",
        "\n",
        "  str_imgId = str(imgId).zfill(3)\n",
        "  new_img_path = os.path.join(img_dir,f\"{str_imgId}.jpg\")\n",
        "\n",
        "  !cp $img_path $new_img_path\n",
        "\n",
        "  mask = None#np.zeros_like(img_cv2)\n",
        "  mask_path = os.path.join(ann_dir,f\"{str_imgId}.png\")\n",
        "  for annId in coco.getAnnIds(imgIds=[imgId]):\n",
        "    ann = coco.anns[annId]\n",
        "    catId = ann[\"category_id\"]\n",
        "\n",
        "    ann_mask = coco.annToMask(ann)[:,:,None]\n",
        "    ann_mask = np.repeat(ann_mask,3,axis=-1) * cat_colors[catId][None,None,:]\n",
        "    ann_mask = ann_mask.astype(\"uint8\")\n",
        "\n",
        "    if mask is None:\n",
        "      mask = ann_mask\n",
        "    else:\n",
        "      mask += ann_mask\n",
        "\n",
        "  cv2.imwrite(mask_path,mask)\n",
        "  num_train_imgs += 1\n"
      ]
    },
    {
      "cell_type": "code",
      "execution_count": null,
      "metadata": {
        "id": "NjH-VRbQCv3B"
      },
      "outputs": [],
      "source": [
        "\n",
        "input_images = glob(\"new_data/test/Images/*\")\n",
        "\n",
        "prompt_images = glob(\"new_data/train/Images/*\")\n",
        "prompt_masks = glob(\"new_data/train/Annotations/*\")\n",
        "output_dir = \"output/\"\n",
        "\n",
        "!rm -rf old_output/\n",
        "!cp -r $output_dir/ old_output/\n",
        "!rm -rf $output_dir\n",
        "!mkdir -p $output_dir\n",
        "\n",
        "for input_image in tqdm(input_images):\n",
        "    img_name = os.path.basename(input_image)\n",
        "    out_path = os.path.join(output_dir, '.'.join(img_name.split('.')[:-1]) + '.png')\n",
        "    inference_image(model, device, input_image, prompt_images, prompt_masks, out_path)\n",
        "\n",
        "print('Finished.')"
      ]
    },
    {
      "cell_type": "code",
      "execution_count": null,
      "metadata": {
        "id": "3tUPritTVhxG"
      },
      "outputs": [],
      "source": [
        "# from common import *\n",
        "# from load import *\n",
        "\n",
        "\n",
        "output_dir = \"./output\"\n",
        "gt_dir = \"./new_data/test/Annotations\"\n",
        "\n",
        "running_iou = 0\n",
        "running_iou_2 = 0\n",
        "num_dirs = 0\n",
        "\n",
        "# for output_dir in glob(output_dir_glob):\n",
        "#     matching_gt_dirs = [\n",
        "#         d for d in gt_dirs if os.path.basename(d) == os.path.basename(output_dir)\n",
        "#     ]\n",
        "#     assert len(matching_gt_dirs) == 1,f\"Missing GT dir for {output_dir}. GT dirs are {gt_dirs}\"\n",
        "#     gt_dir = matching_gt_dirs[0]\n",
        "\n",
        "iou,iou_2 = semseg_iou(gt_dir, output_dir)\n",
        "g = os.path.basename(gt_dir)\n",
        "print(f\"{g}: {round(iou,3)}/{round(iou_2,3)}\")\n",
        "num_dirs += 1\n",
        "running_iou += iou\n",
        "running_iou_2 += iou_2\n",
        "\n",
        "miou = running_iou / (num_dirs + eps)\n",
        "miou_2 = running_iou_2 / (num_dirs + eps)\n",
        "print(f\"mIoU: {round(miou,3)}/{round(miou_2,3)}\")\n"
      ]
    },
    {
      "cell_type": "markdown",
      "metadata": {
        "id": "JDWPzxUMRsU5"
      },
      "source": [
        "# Multiple SegGPT Calls"
      ]
    },
    {
      "cell_type": "code",
      "execution_count": 10,
      "metadata": {},
      "outputs": [],
      "source": [
        "best_settings = {'2-floor': ((0.8773692507811183, 0.5250021492331021), ['026.png', '027.png']),\n",
        " '1-climbing-holds': ((0.47635669303907063, 0.45489765226361556),\n",
        "  ['017.png', '001.png']),\n",
        " '3-person': ((0.8247676196082526, 0.6377002896648565),\n",
        "  ['019.png', '028.png'])}"
      ]
    },
    {
      "cell_type": "code",
      "execution_count": 11,
      "metadata": {
        "colab": {
          "base_uri": "https://localhost:8080/"
        },
        "id": "Yd102pFFR32Z",
        "outputId": "889dd95e-6733-4a40-fa30-64e4805c7690"
      },
      "outputs": [
        {
          "name": "stdout",
          "output_type": "stream",
          "text": [
            "loading annotations into memory...\n",
            "Done (t=0.02s)\n",
            "creating index...\n",
            "index created!\n"
          ]
        }
      ],
      "source": [
        "data_dir = \"datasets/Climbing-5/train\"\n",
        "ref_limit = 2\n",
        "\n",
        "ann_file = os.path.join(data_dir,\"_annotations.coco.json\")\n",
        "coco=COCO(ann_file)\n",
        "\n",
        "new_data_superdir = \"new_multi_data\"\n",
        "\n",
        "def load_multi_data(use_best_settings=True):\n",
        "\n",
        "  !rm -rf $new_data_superdir\n",
        "  !mkdir $new_data_superdir\n",
        "\n",
        "  for catId in coco.getCatIds():\n",
        "    cat = coco.cats[catId]\n",
        "    name = cat[\"name\"]\n",
        "    name = f\"{catId}-{name}\"\n",
        "    print(\"Category:\",name)\n",
        "\n",
        "    if len(coco.getAnnIds(catIds=[catId])) == 0:\n",
        "      print(f\"Skipping category {name}\")\n",
        "      continue\n",
        "\n",
        "    new_data_dir = os.path.join(new_data_superdir,name)\n",
        "    !mkdir $new_data_dir\n",
        "\n",
        "    # We designate our *own* \"train\"/\"test\" directories--there will be a few images in train/, and most images in test/.\n",
        "    new_train_dir = os.path.join(new_data_dir,\"train\")\n",
        "    new_test_dir = os.path.join(new_data_dir,\"test\")\n",
        "    !mkdir $new_train_dir $new_test_dir\n",
        "\n",
        "    ref_ann_dir = os.path.join(new_train_dir,\"Annotations\")\n",
        "    ref_img_dir = os.path.join(new_train_dir,\"Images\")\n",
        "    test_ann_dir = os.path.join(new_test_dir,\"Annotations\")\n",
        "    test_img_dir = os.path.join(new_test_dir,\"Images\")\n",
        "    !mkdir $test_ann_dir $test_img_dir $ref_ann_dir $ref_img_dir\n",
        "\n",
        "    num_train_imgs = 0\n",
        "    imgIds = coco.getImgIds()\n",
        "\n",
        "    if use_best_settings:\n",
        "      best_setting = best_settings[name][1]\n",
        "      refImgIds = [int(imgId.split(\".\")[0]) for imgId in best_setting]\n",
        "\n",
        "    shuffle(imgIds)\n",
        "    for imgId in imgIds:\n",
        "\n",
        "      allAnnIds = coco.getAnnIds(imgIds=[imgId],catIds=[catId])\n",
        "      if use_best_settings:\n",
        "        is_train_img = imgId in refImgIds\n",
        "      else:\n",
        "        is_train_img = len(allAnnIds) > 0 and num_train_imgs < ref_limit\n",
        "\n",
        "      ann_dir = ref_ann_dir if is_train_img else test_ann_dir\n",
        "      img_dir = ref_img_dir if is_train_img else test_img_dir\n",
        "\n",
        "      img = coco.imgs[imgId]\n",
        "      img_path = os.path.join(data_dir,img[\"file_name\"])\n",
        "      img_cv2 = cv2.imread(img_path)\n",
        "\n",
        "      str_imgId = str(imgId).zfill(3)\n",
        "      new_img_path = os.path.join(img_dir,f\"{str_imgId}.jpg\")\n",
        "\n",
        "      !cp $img_path $new_img_path\n",
        "\n",
        "      mask = np.zeros((640,640,3)).astype(\"uint8\")\n",
        "      mask_path = os.path.join(ann_dir,f\"{str_imgId}.png\")\n",
        "      ann_mask = None\n",
        "\n",
        "      reset_colors()\n",
        "      for annId in allAnnIds:\n",
        "        ann = coco.anns[annId]\n",
        "\n",
        "        instance_color = next_rgb()\n",
        "\n",
        "        ann_mask = coco.annToMask(ann)[:,:,None]\n",
        "        ann_mask = np.repeat(ann_mask,3,axis=-1) * instance_color[None,None,:]\n",
        "        ann_mask = ann_mask.astype(\"uint8\")\n",
        "\n",
        "        mask += ann_mask\n",
        "\n",
        "      cv2.imwrite(mask_path,mask)\n",
        "      if is_train_img:\n",
        "        num_train_imgs += 1\n"
      ]
    },
    {
      "cell_type": "code",
      "execution_count": 12,
      "metadata": {},
      "outputs": [],
      "source": [
        "import json\n",
        "\n",
        "def save_coco(coco,path):\n",
        "  images_dict = {}\n",
        "  detections = {}\n",
        "  for imgId in coco.getImgIds():\n",
        "    annIds = coco.getAnnIds(imgIds=[imgId])\n",
        "    anns = [coco.anns[annId] for annId in annIds]\n",
        "    # anns = coco.loadAnns(annIds)\n",
        "\n",
        "    img = coco.imgs[imgId]\n",
        "    name = img[\"file_name\"]\n",
        "    resolution_wh = (img[\"width\"],img[\"height\"])\n",
        "\n",
        "    img_cv2 = cv2.imread(os.path.join(data_dir,img[\"file_name\"]))\n",
        "    images_dict[name] = img_cv2\n",
        "\n",
        "    # construct masks\n",
        "    masks = []\n",
        "    for ann in anns:\n",
        "      mask = coco.annToMask(ann)\n",
        "      masks.append(mask)\n",
        "      # return mask\n",
        "    masks = np.stack(masks,axis=0).astype(\"bool\")\n",
        "    # print(masks.shape)\n",
        "    # print(\"masks\",masks)\n",
        "    # raise 1\n",
        "\n",
        "    det = sv.dataset.formats.coco.coco_annotations_to_detections(anns,resolution_wh,with_masks=False)\n",
        "    det.mask = masks\n",
        "\n",
        "    has_valid_poly = np.zeros(len(det), dtype=np.bool)\n",
        "    i=0\n",
        "    for xyxy,mask,*_ in det:\n",
        "      polys = sv.dataset.formats.coco.approximate_mask_with_polygons(\n",
        "                      mask=mask,\n",
        "                      min_image_area_percentage=0,\n",
        "                      max_image_area_percentage=1,\n",
        "                      approximation_percentage=0.75,\n",
        "                  )\n",
        "      has_valid_poly[i] = len(polys) > 0\n",
        "      i+=1\n",
        "    det = det[has_valid_poly]\n",
        "    detections[name] = det\n",
        "\n",
        "  classes = [cat[\"name\"] for cat in coco.dataset[\"categories\"]]\n",
        "\n",
        "\n",
        "  sv.dataset.formats.coco.save_coco_annotations(path,images_dict,detections,classes)\n",
        "\n",
        "def viz_coco(coco_path,out_dir):\n",
        "\n",
        "  annotator = sv.MaskAnnotator()\n",
        "  cls_names,imgs,detectionss = sv.dataset.formats.coco.load_coco_annotations(data_dir,coco_path,force_masks=True)\n",
        "  # print(detectionss)\n",
        "  # unzip dataset from (list,list,list) tuple\n",
        "  for img_name,img in imgs.items():\n",
        "    detections = detectionss[img_name]\n",
        "\n",
        "    new_img = annotator.annotate(img, detections)\n",
        "    diff = new_img - img\n",
        "    # are there any differences?\n",
        "    if not diff.any() and len(detections) > 0:\n",
        "      print(\"annotating did nothing\")\n",
        "    out_path = os.path.join(out_dir,img_name)\n",
        "    cv2.imwrite(out_path,new_img)\n"
      ]
    },
    {
      "cell_type": "code",
      "execution_count": 178,
      "metadata": {},
      "outputs": [
        {
          "name": "stderr",
          "output_type": "stream",
          "text": [
            "/home/andrewhealey/autodistill-seggpt/.venv/lib/python3.7/site-packages/ipykernel_launcher.py:31: DeprecationWarning: `np.bool` is a deprecated alias for the builtin `bool`. To silence this warning, use `bool` by itself. Doing this will not modify any behavior and is safe. If you specifically wanted the numpy scalar type, use `np.bool_` here.\n",
            "Deprecated in NumPy 1.20; for more details and guidance: https://numpy.org/devdocs/release/1.20.0-notes.html#deprecations\n"
          ]
        }
      ],
      "source": [
        "save_coco(coco,\"coco.json\")"
      ]
    },
    {
      "cell_type": "code",
      "execution_count": null,
      "metadata": {},
      "outputs": [],
      "source": [
        "!rm -rf coco-viz/\n",
        "!mkdir coco-viz/\n",
        "viz_coco(os.path.join(data_dir,\"_annotations.coco.json\"),\"coco-viz\")\n"
      ]
    },
    {
      "cell_type": "code",
      "execution_count": 13,
      "metadata": {},
      "outputs": [],
      "source": [
        "palette = Moonrise7_5.colors\n",
        "palette = np.asarray([list(color) for color in palette])\n",
        "\n",
        "def quantize(img):\n",
        "    global palette\n",
        "\n",
        "    # quantize image to palette\n",
        "    img = np.asarray(img)\n",
        "\n",
        "    cosine = np.sum(img[...,None,:] * palette[None,None,...],axis=-1)\n",
        "    cosine = cosine / (np.linalg.norm(img,axis=-1,keepdims=True) * np.linalg.norm(palette,axis=-1)[None,None,:] + eps)\n",
        "\n",
        "    idx = np.argmax(cosine,axis=-1)\n",
        "\n",
        "    # set black pixels as any pixel that is not close to any color in the palette\n",
        "    black_dist = np.linalg.norm(img,axis=-1)\n",
        "    idx[black_dist < 40] = len(palette)\n",
        "\n",
        "    new_palette = np.concatenate([palette,[[0,0,0]]],axis=0)\n",
        "\n",
        "    img = new_palette[idx]\n",
        "    return img.astype(\"uint8\")\n",
        "\n",
        "from scipy.ndimage.measurements import label\n",
        "\n",
        "def quantized_to_bitmasks(img,palette):\n",
        "    # get \"components\" of each color\n",
        "    filtered_components = []\n",
        "    for color_idx in range(palette.shape[0]):\n",
        "        color = palette[color_idx]\n",
        "        matching_pixels = np.all(img == color,axis=-1)\n",
        "        # now make components\n",
        "        componentized, num_components = label(matching_pixels)\n",
        "\n",
        "        for component_idx in range(1,num_components+1):\n",
        "            component = componentized == component_idx\n",
        "            filtered_components.append(component)\n",
        "    \n",
        "    filtered_components = [(component * 255).astype(\"uint8\") for component in filtered_components]\n",
        "    return filtered_components\n",
        "\n",
        "import supervision as sv\n",
        "def bitmasks_to_detections(bitmasks,catId):\n",
        "    class_id = np.asarray([catId]).astype(\"int64\")\n",
        "    detections = [sv.Detections(\n",
        "        xyxy=sv.detection.utils.mask_to_xyxy(bitmask[None,...]),\n",
        "        mask=bitmask[None,...],\n",
        "        confidence=np.ndarray([1]),\n",
        "        class_id=class_id,\n",
        "    ) for bitmask in bitmasks]\n",
        "    return sv.Detections.merge(detections)\n",
        "\n",
        "# demo_mask = cv2.imread(\"output/1-climbing-holds/010.png\")\n",
        "# demo_mask = cv2.cvtColor(demo_mask,cv2.COLOR_BGR2RGB)\n",
        "# demo_quant = quantize(demo_mask)\n",
        "# demo_bitmasks = quantized_to_bitmasks(demo_quant)\n",
        "# demo_detections = sv.Detections.merge(bitmasks_to_detections(demo_bitmasks,1))\n",
        "\n",
        "# annotator = sv.MaskAnnotator()\n",
        "# scene = cv2.imread(\"new_multi_data/1-climbing-holds/test/Images/010.jpg\")\n",
        "# scene = cv2.cvtColor(scene,cv2.COLOR_BGR2RGB)\n",
        "# cv2_imshow(annotator.annotate(\n",
        "#     scene=scene,\n",
        "#     detections=demo_detections,\n",
        "# ))\n"
      ]
    },
    {
      "cell_type": "code",
      "execution_count": 14,
      "metadata": {
        "colab": {
          "base_uri": "https://localhost:8080/"
        },
        "id": "2Cq88FO7TCBQ",
        "outputId": "b877b791-8cec-467a-c1ca-5a9afccf2b67"
      },
      "outputs": [],
      "source": [
        "output_superdir=\"output/\"\n",
        "catDatasets = None\n",
        "\n",
        "coco_outdir = \"coco_output/\"\n",
        "\n",
        "use_colorings = False\n",
        "\n",
        "from pycocotools import mask as maskUtils\n",
        "\n",
        "def infer_multi_data():\n",
        "  global catDatasets\n",
        "  catDatasets = {}\n",
        "\n",
        "  coco_results = []\n",
        "\n",
        "  # semseg-like output predictions\n",
        "  !rm -rf old_output/\n",
        "  !cp -r $output_superdir/ old_output/\n",
        "  !rm -rf $output_superdir\n",
        "  !mkdir -p $output_superdir\n",
        "\n",
        "  # COCO-like output predictions\n",
        "  !rm -rf old_coco_output/\n",
        "  !mv $coco_outdir/ old_coco_output/\n",
        "  !mkdir -p $coco_outdir\n",
        "\n",
        "  for catId in coco.getCatIds():\n",
        "    cat = coco.cats[catId]\n",
        "    name = cat[\"name\"]\n",
        "    name = f\"{catId}-{name}\"\n",
        "    print(f\"Inferencing {name}\")\n",
        "\n",
        "    new_data_dir = os.path.join(new_data_superdir,name)\n",
        "\n",
        "    input_images = glob(new_data_dir+\"/test/Images/*\")\n",
        "\n",
        "    prompt_images = glob(new_data_dir + \"/train/Images/*\")\n",
        "    prompt_masks = glob(new_data_dir + \"/train/Annotations/*\")\n",
        "    output_dir = os.path.join(output_superdir,name)\n",
        "\n",
        "    catDatasets[name] = [mask.split(os.sep)[-1] for mask in prompt_masks]\n",
        "\n",
        "    !mkdir -p $output_dir\n",
        "\n",
        "    if len(input_images) == 0:\n",
        "      print(f\"Skipping {name} because there are no input images\")\n",
        "      continue\n",
        "\n",
        "    for input_image in tqdm(input_images):\n",
        "        img_name = os.path.basename(input_image)\n",
        "\n",
        "        out_path = os.path.join(output_dir, '.'.join(img_name.split('.')[:-1]) + '.png')\n",
        "        \n",
        "        print(\"inferencing\",input_image,prompt_images,prompt_masks,out_path)\n",
        "        output = inference_image(model, device, input_image, prompt_images, prompt_masks, out_path)\n",
        "        raise 1\n",
        "        quant_output = quantize(output)\n",
        "        \n",
        "        if use_colorings:\n",
        "          to_bitmask_output = quant_output\n",
        "          to_bitmask_palette = palette\n",
        "        else:\n",
        "          to_bitmask_output = quant_output.sum(axis=-1) > 10\n",
        "          to_bitmask_output = to_bitmask_output[...,None] * 255\n",
        "          to_bitmask_palette = np.asarray([[255,255,255]])\n",
        "\n",
        "        out_quant_path = os.path.join(coco_outdir, '.'.join(img_name.split('.')[:-1]) + '.png')\n",
        "        cv2.imwrite(out_quant_path,to_bitmask_output)\n",
        "\n",
        "        bitmasks = quantized_to_bitmasks(to_bitmask_output,to_bitmask_palette)\n",
        "        detections = bitmasks_to_detections(bitmasks, catId)\n",
        "\n",
        "        # filter <100px detections\n",
        "        detections = detections[detections.area > 100]\n",
        "\n",
        "        for detection in detections:\n",
        "          det_floor,det_mask,det_conf,det_class,_ = detection\n",
        "          # coco result format\n",
        "          coco_results.append({\n",
        "              \"image_id\": int(img_name.split(\".\")[0]),\n",
        "              \"category_id\": catId,\n",
        "              \"segmentation\": maskUtils.encode(np.asfortranarray(det_mask)),\n",
        "              \"score\": float(det_conf),\n",
        "           })\n",
        "    assert len(coco_results) > 0,f\"No results for {name}\"\n",
        "  \n",
        "  results = coco.loadRes(coco_results)\n",
        "\n",
        "  results_file = os.path.join(coco_outdir,\"_annotations.coco.json\")\n",
        "  save_coco(results,results_file)\n",
        "  viz_coco(results_file,coco_outdir)\n",
        " \n",
        "  print('Finished.')\n",
        "  return results"
      ]
    },
    {
      "cell_type": "code",
      "execution_count": 15,
      "metadata": {
        "id": "oh5wPit0DZoM"
      },
      "outputs": [],
      "source": [
        "\n",
        "output_dir_glob = \"./output/*\"\n",
        "gt_dir = \"./new_multi_data/*/test/Annotations\"\n",
        "gt_dirs = glob(gt_dir)\n",
        "\n",
        "def eval_multi_data(coco_results):\n",
        "  running_iou = 0\n",
        "  running_iou_2 = 0\n",
        "  num_dirs = 0\n",
        "\n",
        "  catIous = {}\n",
        "\n",
        "  for output_dir in glob(output_dir_glob):\n",
        "      cls = output_dir.split(os.sep)[2]\n",
        "      matching_gt_dirs = [\n",
        "          d for d in gt_dirs if d.split(os.sep)[2] == cls\n",
        "      ]\n",
        "      if len(matching_gt_dirs) == 0:\n",
        "        print(\"Skipping\",cls)\n",
        "        continue\n",
        "      assert len(matching_gt_dirs) == 1,f\"Missing GT dir for {output_dir}. GT dirs are {gt_dirs}\"\n",
        "      gt_dir = matching_gt_dirs[0]\n",
        "\n",
        "      iou,iou_2 = semseg_iou(gt_dir, output_dir,as_bitmask=True)\n",
        "      g = os.path.basename(gt_dir)\n",
        "      print(f\"{cls}: {round(iou,3)}/{round(iou_2,3)}\")\n",
        "      num_dirs += 1\n",
        "      running_iou += iou\n",
        "      running_iou_2 += iou_2\n",
        "\n",
        "      catIous[cls] = (iou,iou_2)\n",
        "\n",
        "      multi_fs_scores[cls] = [*multi_fs_scores.get(cls,[]),(catIous[cls],catDatasets[cls])]\n",
        "\n",
        "  miou = running_iou / (num_dirs + eps)\n",
        "  miou_2 = running_iou_2 / (num_dirs + eps)\n",
        "  print(f\"mIoU: {round(miou,3)}/{round(miou_2,3)}\")\n"
      ]
    },
    {
      "cell_type": "code",
      "execution_count": 16,
      "metadata": {},
      "outputs": [],
      "source": [
        "from pycocotools.coco import COCO\n",
        "from pycocotools.cocoeval import COCOeval\n",
        "def eval_multi_data(results):\n",
        "\n",
        "    coco_eval = COCOeval(coco, results, \"segm\")\n",
        "    coco_eval.evaluate()\n",
        "    coco_eval.accumulate()\n",
        "    coco_eval.summarize()"
      ]
    },
    {
      "cell_type": "code",
      "execution_count": 17,
      "metadata": {},
      "outputs": [
        {
          "name": "stdout",
          "output_type": "stream",
          "text": [
            "loaded\n",
            "Inferencing 0-climbing-holds\n",
            "Skipping 0-climbing-holds because there are no input images\n",
            "Inferencing 1-climbing-holds\n"
          ]
        },
        {
          "name": "stderr",
          "output_type": "stream",
          "text": [
            "  0%|          | 0/29 [00:00<?, ?it/s]"
          ]
        },
        {
          "name": "stdout",
          "output_type": "stream",
          "text": [
            "inferencing new_multi_data/1-climbing-holds/test/Images/000.jpg ['new_multi_data/1-climbing-holds/train/Images/017.jpg', 'new_multi_data/1-climbing-holds/train/Images/001.jpg'] ['new_multi_data/1-climbing-holds/train/Annotations/017.png', 'new_multi_data/1-climbing-holds/train/Annotations/001.png'] output/1-climbing-holds/000.png\n",
            "run_one_image (2, 896, 448, 3) 36934.097452733615 1.0155727483508894\n"
          ]
        },
        {
          "name": "stderr",
          "output_type": "stream",
          "text": [
            "  0%|          | 0/29 [00:03<?, ?it/s]\n"
          ]
        },
        {
          "ename": "TypeError",
          "evalue": "exceptions must derive from BaseException",
          "output_type": "error",
          "traceback": [
            "\u001b[0;31m---------------------------------------------------------------------------\u001b[0m",
            "\u001b[0;31mTypeError\u001b[0m                                 Traceback (most recent call last)",
            "\u001b[0;32m/var/tmp/ipykernel_25753/1710417396.py\u001b[0m in \u001b[0;36m<module>\u001b[0;34m\u001b[0m\n\u001b[1;32m      1\u001b[0m \u001b[0;31m# load_multi_data()\u001b[0m\u001b[0;34m\u001b[0m\u001b[0;34m\u001b[0m\u001b[0;34m\u001b[0m\u001b[0m\n\u001b[1;32m      2\u001b[0m \u001b[0mprint\u001b[0m\u001b[0;34m(\u001b[0m\u001b[0;34m\"loaded\"\u001b[0m\u001b[0;34m)\u001b[0m\u001b[0;34m\u001b[0m\u001b[0;34m\u001b[0m\u001b[0m\n\u001b[0;32m----> 3\u001b[0;31m \u001b[0mcoco_results\u001b[0m \u001b[0;34m=\u001b[0m \u001b[0minfer_multi_data\u001b[0m\u001b[0;34m(\u001b[0m\u001b[0;34m)\u001b[0m\u001b[0;34m\u001b[0m\u001b[0;34m\u001b[0m\u001b[0m\n\u001b[0m\u001b[1;32m      4\u001b[0m \u001b[0mprint\u001b[0m\u001b[0;34m(\u001b[0m\u001b[0;34m\"inferred\"\u001b[0m\u001b[0;34m)\u001b[0m\u001b[0;34m\u001b[0m\u001b[0;34m\u001b[0m\u001b[0m\n\u001b[1;32m      5\u001b[0m \u001b[0meval_multi_data\u001b[0m\u001b[0;34m(\u001b[0m\u001b[0mcoco_results\u001b[0m\u001b[0;34m)\u001b[0m\u001b[0;34m\u001b[0m\u001b[0;34m\u001b[0m\u001b[0m\n",
            "\u001b[0;32m/var/tmp/ipykernel_25753/2283580910.py\u001b[0m in \u001b[0;36minfer_multi_data\u001b[0;34m()\u001b[0m\n\u001b[1;32m     54\u001b[0m         \u001b[0mprint\u001b[0m\u001b[0;34m(\u001b[0m\u001b[0;34m\"inferencing\"\u001b[0m\u001b[0;34m,\u001b[0m\u001b[0minput_image\u001b[0m\u001b[0;34m,\u001b[0m\u001b[0mprompt_images\u001b[0m\u001b[0;34m,\u001b[0m\u001b[0mprompt_masks\u001b[0m\u001b[0;34m,\u001b[0m\u001b[0mout_path\u001b[0m\u001b[0;34m)\u001b[0m\u001b[0;34m\u001b[0m\u001b[0;34m\u001b[0m\u001b[0m\n\u001b[1;32m     55\u001b[0m         \u001b[0moutput\u001b[0m \u001b[0;34m=\u001b[0m \u001b[0minference_image\u001b[0m\u001b[0;34m(\u001b[0m\u001b[0mmodel\u001b[0m\u001b[0;34m,\u001b[0m \u001b[0mdevice\u001b[0m\u001b[0;34m,\u001b[0m \u001b[0minput_image\u001b[0m\u001b[0;34m,\u001b[0m \u001b[0mprompt_images\u001b[0m\u001b[0;34m,\u001b[0m \u001b[0mprompt_masks\u001b[0m\u001b[0;34m,\u001b[0m \u001b[0mout_path\u001b[0m\u001b[0;34m)\u001b[0m\u001b[0;34m\u001b[0m\u001b[0;34m\u001b[0m\u001b[0m\n\u001b[0;32m---> 56\u001b[0;31m         \u001b[0;32mraise\u001b[0m \u001b[0;36m1\u001b[0m\u001b[0;34m\u001b[0m\u001b[0;34m\u001b[0m\u001b[0m\n\u001b[0m\u001b[1;32m     57\u001b[0m         \u001b[0mquant_output\u001b[0m \u001b[0;34m=\u001b[0m \u001b[0mquantize\u001b[0m\u001b[0;34m(\u001b[0m\u001b[0moutput\u001b[0m\u001b[0;34m)\u001b[0m\u001b[0;34m\u001b[0m\u001b[0;34m\u001b[0m\u001b[0m\n\u001b[1;32m     58\u001b[0m \u001b[0;34m\u001b[0m\u001b[0m\n",
            "\u001b[0;31mTypeError\u001b[0m: exceptions must derive from BaseException"
          ]
        }
      ],
      "source": [
        "# load_multi_data()\n",
        "print(\"loaded\")\n",
        "coco_results = infer_multi_data()\n",
        "print(\"inferred\")\n",
        "eval_multi_data(coco_results)"
      ]
    },
    {
      "cell_type": "code",
      "execution_count": 15,
      "metadata": {},
      "outputs": [
        {
          "data": {
            "text/plain": [
              "{'2-floor': [((0.8270116577039338, 0.5325168310277313),\n",
              "   ['028.png', '027.png']),\n",
              "  ((0.7793104060232438, 0.4390267944103111), ['027.png', '001.png']),\n",
              "  ((0.8773692507811183, 0.5250021492331021), ['026.png', '027.png']),\n",
              "  ((0.13104579963022087, 0.10128776644709994), ['027.png', '024.png']),\n",
              "  ((0.014476923673851564, 0.009640188997470826), ['028.png', '029.png']),\n",
              "  ((0.7976855571019389, 0.5083103015663305), ['017.png', '024.png']),\n",
              "  ((0.007538319181045177, 0.003519734331946857), ['028.png', '029.png'])],\n",
              " '1-climbing-holds': [((0.451158441513877, 0.41397490379142615),\n",
              "   ['021.png', '001.png']),\n",
              "  ((0.07063277128862094, 0.061001018364257475), ['026.png', '018.png']),\n",
              "  ((0.3464013851766235, 0.34600251153119077), ['007.png', '003.png']),\n",
              "  ((0.040924330799188585, 0.0414314278072386), ['026.png', '028.png']),\n",
              "  ((0.09953889694688792, 0.0974581018027288), ['003.png', '029.png']),\n",
              "  ((0.08060908437342904, 0.07342028048643573), ['007.png', '023.png']),\n",
              "  ((0.07094558578500952, 0.06423241751357865), ['007.png', '020.png'])],\n",
              " '3-person': [((9.754946995694718e-05, 0.00020451188049013685),\n",
              "   ['002.png', '014.png']),\n",
              "  ((0.00023754310900476675, 9.489697750861285e-05), ['010.png', '024.png']),\n",
              "  ((0.6498345190292356, 0.5841406625720889), ['014.png', '024.png']),\n",
              "  ((0.09602287848650011, 0.0897023225195977), ['014.png', '007.png']),\n",
              "  ((0.2693944878006973, 0.21892388691400375), ['010.png', '022.png']),\n",
              "  ((0.0, 0.0), ['016.png', '009.png']),\n",
              "  ((0.7446985411098611, 0.6045745281158499), ['017.png', '022.png'])]}"
            ]
          },
          "execution_count": 15,
          "metadata": {},
          "output_type": "execute_result"
        }
      ],
      "source": [
        "multi_fs_scores"
      ]
    },
    {
      "cell_type": "code",
      "execution_count": 197,
      "metadata": {},
      "outputs": [
        {
          "name": "stdout",
          "output_type": "stream",
          "text": [
            "STARTING\n",
            "--------------------------------------------------LOADING #0--------------------------------------------------\n",
            "Category: 0-climbing-holds\n",
            "Skipping category 0-climbing-holds\n",
            "Category: 1-climbing-holds\n",
            "Category: 2-floor\n",
            "Category: 3-person\n",
            "--------------------------------------------------INFERRING #0--------------------------------------------------\n",
            "Inferencing 0-climbing-holds\n",
            "Skipping 0-climbing-holds because there are no input images\n",
            "Inferencing 1-climbing-holds\n"
          ]
        },
        {
          "name": "stderr",
          "output_type": "stream",
          "text": [
            "100%|██████████| 29/29 [00:50<00:00,  1.76s/it]\n"
          ]
        },
        {
          "name": "stdout",
          "output_type": "stream",
          "text": [
            "Inferencing 2-floor\n"
          ]
        },
        {
          "name": "stderr",
          "output_type": "stream",
          "text": [
            "100%|██████████| 29/29 [00:45<00:00,  1.58s/it]\n"
          ]
        },
        {
          "name": "stdout",
          "output_type": "stream",
          "text": [
            "Inferencing 3-person\n"
          ]
        },
        {
          "name": "stderr",
          "output_type": "stream",
          "text": [
            "100%|██████████| 29/29 [00:46<00:00,  1.59s/it]\n",
            "/home/andrewhealey/autodistill-seggpt/.venv/lib/python3.7/site-packages/ipykernel_launcher.py:32: DeprecationWarning: `np.bool` is a deprecated alias for the builtin `bool`. To silence this warning, use `bool` by itself. Doing this will not modify any behavior and is safe. If you specifically wanted the numpy scalar type, use `np.bool_` here.\n",
            "Deprecated in NumPy 1.20; for more details and guidance: https://numpy.org/devdocs/release/1.20.0-notes.html#deprecations\n"
          ]
        },
        {
          "name": "stdout",
          "output_type": "stream",
          "text": [
            "Loading and preparing results...\n",
            "DONE (t=0.01s)\n",
            "creating index...\n",
            "index created!\n"
          ]
        },
        {
          "ename": "ValueError",
          "evalue": "need at least one array to stack",
          "output_type": "error",
          "traceback": [
            "\u001b[0;31m---------------------------------------------------------------------------\u001b[0m",
            "\u001b[0;31mValueError\u001b[0m                                Traceback (most recent call last)",
            "\u001b[0;32m/var/tmp/ipykernel_30126/3658454622.py\u001b[0m in \u001b[0;36m<module>\u001b[0;34m\u001b[0m\n\u001b[1;32m      4\u001b[0m     \u001b[0mload_multi_data\u001b[0m\u001b[0;34m(\u001b[0m\u001b[0muse_best_settings\u001b[0m\u001b[0;34m=\u001b[0m\u001b[0;32mFalse\u001b[0m\u001b[0;34m)\u001b[0m\u001b[0;34m\u001b[0m\u001b[0;34m\u001b[0m\u001b[0m\n\u001b[1;32m      5\u001b[0m     \u001b[0mprint\u001b[0m\u001b[0;34m(\u001b[0m\u001b[0;34m\"-\"\u001b[0m\u001b[0;34m*\u001b[0m\u001b[0;36m50\u001b[0m\u001b[0;34m+\u001b[0m\u001b[0;34mf\"INFERRING #{seed}\"\u001b[0m\u001b[0;34m+\u001b[0m\u001b[0;34m\"-\"\u001b[0m\u001b[0;34m*\u001b[0m\u001b[0;36m50\u001b[0m\u001b[0;34m)\u001b[0m\u001b[0;34m\u001b[0m\u001b[0;34m\u001b[0m\u001b[0m\n\u001b[0;32m----> 6\u001b[0;31m     \u001b[0mcoco_results\u001b[0m \u001b[0;34m=\u001b[0m \u001b[0minfer_multi_data\u001b[0m\u001b[0;34m(\u001b[0m\u001b[0;34m)\u001b[0m\u001b[0;34m\u001b[0m\u001b[0;34m\u001b[0m\u001b[0m\n\u001b[0m\u001b[1;32m      7\u001b[0m     \u001b[0mprint\u001b[0m\u001b[0;34m(\u001b[0m\u001b[0;34m\"-\"\u001b[0m\u001b[0;34m*\u001b[0m\u001b[0;36m50\u001b[0m\u001b[0;34m+\u001b[0m\u001b[0;34mf\"EVALLING #{seed}\"\u001b[0m\u001b[0;34m+\u001b[0m\u001b[0;34m\"-\"\u001b[0m\u001b[0;34m*\u001b[0m\u001b[0;36m50\u001b[0m\u001b[0;34m)\u001b[0m\u001b[0;34m\u001b[0m\u001b[0;34m\u001b[0m\u001b[0m\n\u001b[1;32m      8\u001b[0m     \u001b[0meval_multi_data\u001b[0m\u001b[0;34m(\u001b[0m\u001b[0mcoco_results\u001b[0m\u001b[0;34m)\u001b[0m\u001b[0;34m\u001b[0m\u001b[0;34m\u001b[0m\u001b[0m\n",
            "\u001b[0;32m/var/tmp/ipykernel_30126/837252821.py\u001b[0m in \u001b[0;36minfer_multi_data\u001b[0;34m()\u001b[0m\n\u001b[1;32m     85\u001b[0m \u001b[0;34m\u001b[0m\u001b[0m\n\u001b[1;32m     86\u001b[0m   \u001b[0mresults_file\u001b[0m \u001b[0;34m=\u001b[0m \u001b[0mos\u001b[0m\u001b[0;34m.\u001b[0m\u001b[0mpath\u001b[0m\u001b[0;34m.\u001b[0m\u001b[0mjoin\u001b[0m\u001b[0;34m(\u001b[0m\u001b[0mcoco_outdir\u001b[0m\u001b[0;34m,\u001b[0m\u001b[0;34m\"_annotations.coco.json\"\u001b[0m\u001b[0;34m)\u001b[0m\u001b[0;34m\u001b[0m\u001b[0;34m\u001b[0m\u001b[0m\n\u001b[0;32m---> 87\u001b[0;31m   \u001b[0msave_coco\u001b[0m\u001b[0;34m(\u001b[0m\u001b[0mresults\u001b[0m\u001b[0;34m,\u001b[0m\u001b[0mresults_file\u001b[0m\u001b[0;34m)\u001b[0m\u001b[0;34m\u001b[0m\u001b[0;34m\u001b[0m\u001b[0m\n\u001b[0m\u001b[1;32m     88\u001b[0m   \u001b[0mviz_coco\u001b[0m\u001b[0;34m(\u001b[0m\u001b[0mresults_file\u001b[0m\u001b[0;34m,\u001b[0m\u001b[0mcoco_outdir\u001b[0m\u001b[0;34m)\u001b[0m\u001b[0;34m\u001b[0m\u001b[0;34m\u001b[0m\u001b[0m\n\u001b[1;32m     89\u001b[0m \u001b[0;34m\u001b[0m\u001b[0m\n",
            "\u001b[0;32m/var/tmp/ipykernel_30126/1176603291.py\u001b[0m in \u001b[0;36msave_coco\u001b[0;34m(coco, path)\u001b[0m\n\u001b[1;32m     22\u001b[0m       \u001b[0mmasks\u001b[0m\u001b[0;34m.\u001b[0m\u001b[0mappend\u001b[0m\u001b[0;34m(\u001b[0m\u001b[0mmask\u001b[0m\u001b[0;34m)\u001b[0m\u001b[0;34m\u001b[0m\u001b[0;34m\u001b[0m\u001b[0m\n\u001b[1;32m     23\u001b[0m       \u001b[0;31m# return mask\u001b[0m\u001b[0;34m\u001b[0m\u001b[0;34m\u001b[0m\u001b[0;34m\u001b[0m\u001b[0m\n\u001b[0;32m---> 24\u001b[0;31m     \u001b[0mmasks\u001b[0m \u001b[0;34m=\u001b[0m \u001b[0mnp\u001b[0m\u001b[0;34m.\u001b[0m\u001b[0mstack\u001b[0m\u001b[0;34m(\u001b[0m\u001b[0mmasks\u001b[0m\u001b[0;34m,\u001b[0m\u001b[0maxis\u001b[0m\u001b[0;34m=\u001b[0m\u001b[0;36m0\u001b[0m\u001b[0;34m)\u001b[0m\u001b[0;34m.\u001b[0m\u001b[0mastype\u001b[0m\u001b[0;34m(\u001b[0m\u001b[0;34m\"bool\"\u001b[0m\u001b[0;34m)\u001b[0m\u001b[0;34m\u001b[0m\u001b[0;34m\u001b[0m\u001b[0m\n\u001b[0m\u001b[1;32m     25\u001b[0m     \u001b[0;31m# print(masks.shape)\u001b[0m\u001b[0;34m\u001b[0m\u001b[0;34m\u001b[0m\u001b[0;34m\u001b[0m\u001b[0m\n\u001b[1;32m     26\u001b[0m     \u001b[0;31m# print(\"masks\",masks)\u001b[0m\u001b[0;34m\u001b[0m\u001b[0;34m\u001b[0m\u001b[0;34m\u001b[0m\u001b[0m\n",
            "\u001b[0;32m<__array_function__ internals>\u001b[0m in \u001b[0;36mstack\u001b[0;34m(*args, **kwargs)\u001b[0m\n",
            "\u001b[0;32m~/autodistill-seggpt/.venv/lib/python3.7/site-packages/numpy/core/shape_base.py\u001b[0m in \u001b[0;36mstack\u001b[0;34m(arrays, axis, out)\u001b[0m\n\u001b[1;32m    420\u001b[0m     \u001b[0marrays\u001b[0m \u001b[0;34m=\u001b[0m \u001b[0;34m[\u001b[0m\u001b[0masanyarray\u001b[0m\u001b[0;34m(\u001b[0m\u001b[0marr\u001b[0m\u001b[0;34m)\u001b[0m \u001b[0;32mfor\u001b[0m \u001b[0marr\u001b[0m \u001b[0;32min\u001b[0m \u001b[0marrays\u001b[0m\u001b[0;34m]\u001b[0m\u001b[0;34m\u001b[0m\u001b[0;34m\u001b[0m\u001b[0m\n\u001b[1;32m    421\u001b[0m     \u001b[0;32mif\u001b[0m \u001b[0;32mnot\u001b[0m \u001b[0marrays\u001b[0m\u001b[0;34m:\u001b[0m\u001b[0;34m\u001b[0m\u001b[0;34m\u001b[0m\u001b[0m\n\u001b[0;32m--> 422\u001b[0;31m         \u001b[0;32mraise\u001b[0m \u001b[0mValueError\u001b[0m\u001b[0;34m(\u001b[0m\u001b[0;34m'need at least one array to stack'\u001b[0m\u001b[0;34m)\u001b[0m\u001b[0;34m\u001b[0m\u001b[0;34m\u001b[0m\u001b[0m\n\u001b[0m\u001b[1;32m    423\u001b[0m \u001b[0;34m\u001b[0m\u001b[0m\n\u001b[1;32m    424\u001b[0m     \u001b[0mshapes\u001b[0m \u001b[0;34m=\u001b[0m \u001b[0;34m{\u001b[0m\u001b[0marr\u001b[0m\u001b[0;34m.\u001b[0m\u001b[0mshape\u001b[0m \u001b[0;32mfor\u001b[0m \u001b[0marr\u001b[0m \u001b[0;32min\u001b[0m \u001b[0marrays\u001b[0m\u001b[0;34m}\u001b[0m\u001b[0;34m\u001b[0m\u001b[0;34m\u001b[0m\u001b[0m\n",
            "\u001b[0;31mValueError\u001b[0m: need at least one array to stack"
          ]
        }
      ],
      "source": [
        "print(\"STARTING\")\n",
        "for seed in range(10):\n",
        "    print(\"-\"*50+f\"LOADING #{seed}\"+\"-\"*50)\n",
        "    load_multi_data(use_best_settings=False)\n",
        "    print(\"-\"*50+f\"INFERRING #{seed}\"+\"-\"*50)\n",
        "    coco_results = infer_multi_data()\n",
        "    print(\"-\"*50+f\"EVALLING #{seed}\"+\"-\"*50)\n",
        "    eval_multi_data(coco_results)"
      ]
    },
    {
      "cell_type": "code",
      "execution_count": 11,
      "metadata": {
        "id": "gm0sSEf-yhAD"
      },
      "outputs": [
        {
          "data": {
            "text/plain": [
              "{}"
            ]
          },
          "execution_count": 11,
          "metadata": {},
          "output_type": "execute_result"
        }
      ],
      "source": [
        "multi_fs_scores"
      ]
    },
    {
      "cell_type": "code",
      "execution_count": 18,
      "metadata": {},
      "outputs": [
        {
          "data": {
            "text/plain": [
              "{'2-floor': ((0.8773692507811183, 0.5250021492331021), ['026.png', '027.png']),\n",
              " '1-climbing-holds': ((0.47635669303907063, 0.45489765226361556),\n",
              "  ['017.png', '001.png']),\n",
              " '3-person': ((0.8247676196082526, 0.6377002896648565),\n",
              "  ['019.png', '028.png'])}"
            ]
          },
          "execution_count": 18,
          "metadata": {},
          "output_type": "execute_result"
        }
      ],
      "source": [
        "best_fs_scores = {cls: max(opts,key=lambda s:s[0][0]) for cls,opts in multi_fs_scores.items()}\n",
        "best_fs_scores"
      ]
    }
  ],
  "metadata": {
    "accelerator": "GPU",
    "colab": {
      "collapsed_sections": [
        "6hrwXg1DttKe",
        "jEzbo4sULtoU",
        "CxCxbQuSkmoq",
        "oTWHo5n9Rl09",
        "JDWPzxUMRsU5"
      ],
      "gpuType": "T4",
      "provenance": []
    },
    "kernelspec": {
      "display_name": "Python 3",
      "name": "python3"
    },
    "language_info": {
      "codemirror_mode": {
        "name": "ipython",
        "version": 3
      },
      "file_extension": ".py",
      "mimetype": "text/x-python",
      "name": "python",
      "nbconvert_exporter": "python",
      "pygments_lexer": "ipython3",
      "version": "3.7.3"
    }
  },
  "nbformat": 4,
  "nbformat_minor": 0
}
